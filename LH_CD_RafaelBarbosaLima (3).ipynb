{
  "cells": [
    {
      "cell_type": "markdown",
      "id": "17ec94bf",
      "metadata": {
        "id": "17ec94bf"
      },
      "source": [
        "# Desafio Cientista de Dados - Plataforma de Aluguéis Temporários"
      ]
    },
    {
      "cell_type": "markdown",
      "source": [
        "Bem-vindo ao meu projeto de previsão de preços de imóveis! Neste trabalho além de fazer uma análise exploratória, desenvolvi um modelo de Regressão Linear para prever os preços de aluguel de imóveis em Nova York. Com o objetivo de explorar as variáveis que influenciam os preços, aplicar um modelo preditivo e apresentar resultados sobre a precificação na plataforma."
      ],
      "metadata": {
        "id": "U8W3hhjtnqvn"
      },
      "id": "U8W3hhjtnqvn"
    },
    {
      "cell_type": "markdown",
      "source": [
        "\n",
        "## Vizualização dos dados"
      ],
      "metadata": {
        "id": "o44KrbRAFJ4v"
      },
      "id": "o44KrbRAFJ4v"
    },
    {
      "cell_type": "markdown",
      "source": [
        "Antes de colocar a mão na massa, vamos verificar se está tudo certinho com o nosso dataset.\n"
      ],
      "metadata": {
        "id": "NZSSFvf9oaaV"
      },
      "id": "NZSSFvf9oaaV"
    },
    {
      "cell_type": "markdown",
      "source": [
        "### Importação dos dados"
      ],
      "metadata": {
        "id": "_D0zQ4aQRJaa"
      },
      "id": "_D0zQ4aQRJaa"
    },
    {
      "cell_type": "code",
      "execution_count": 1,
      "id": "fdc135aa",
      "metadata": {
        "scrolled": true,
        "colab": {
          "base_uri": "https://localhost:8080/"
        },
        "id": "fdc135aa",
        "outputId": "a4d2af45-bbdb-420b-fcc3-78e91bf7b95d"
      },
      "outputs": [
        {
          "output_type": "stream",
          "name": "stdout",
          "text": [
            "Requirement already satisfied: numpy in /usr/local/lib/python3.11/dist-packages (1.26.4)\n",
            "Requirement already satisfied: pandas in /usr/local/lib/python3.11/dist-packages (2.2.2)\n",
            "Requirement already satisfied: python-dateutil>=2.8.2 in /usr/local/lib/python3.11/dist-packages (from pandas) (2.8.2)\n",
            "Requirement already satisfied: pytz>=2020.1 in /usr/local/lib/python3.11/dist-packages (from pandas) (2024.2)\n",
            "Requirement already satisfied: tzdata>=2022.7 in /usr/local/lib/python3.11/dist-packages (from pandas) (2025.1)\n",
            "Requirement already satisfied: six>=1.5 in /usr/local/lib/python3.11/dist-packages (from python-dateutil>=2.8.2->pandas) (1.17.0)\n"
          ]
        }
      ],
      "source": [
        "\n",
        "# Importando as bibliotecas necessárias\n",
        "!pip install numpy pandas\n",
        "import pandas as pd\n",
        "import numpy as np\n",
        "import matplotlib.pyplot as plt\n",
        "import seaborn as sns"
      ]
    },
    {
      "cell_type": "code",
      "execution_count": 4,
      "id": "cd3fba73",
      "metadata": {
        "colab": {
          "base_uri": "https://localhost:8080/",
          "height": 417
        },
        "id": "cd3fba73",
        "outputId": "d7f972c5-d82a-41e6-86f1-c48adc7ad698"
      },
      "outputs": [
        {
          "output_type": "execute_result",
          "data": {
            "text/plain": [
              "     id                                              nome  host_id  \\\n",
              "0  2595                             Skylit Midtown Castle     2845   \n",
              "1  3647               THE VILLAGE OF HARLEM....NEW YORK !     4632   \n",
              "2  3831                   Cozy Entire Floor of Brownstone     4869   \n",
              "3  5022  Entire Apt: Spacious Studio/Loft by central park     7192   \n",
              "4  5099         Large Cozy 1 BR Apartment In Midtown East     7322   \n",
              "\n",
              "     host_name bairro_group        bairro  latitude  longitude  \\\n",
              "0     Jennifer    Manhattan       Midtown  40.75362  -73.98377   \n",
              "1    Elisabeth    Manhattan        Harlem  40.80902  -73.94190   \n",
              "2  LisaRoxanne     Brooklyn  Clinton Hill  40.68514  -73.95976   \n",
              "3        Laura    Manhattan   East Harlem  40.79851  -73.94399   \n",
              "4        Chris    Manhattan   Murray Hill  40.74767  -73.97500   \n",
              "\n",
              "         room_type  price  minimo_noites  numero_de_reviews ultima_review  \\\n",
              "0  Entire home/apt    225              1                 45    2019-05-21   \n",
              "1     Private room    150              3                  0           NaN   \n",
              "2  Entire home/apt     89              1                270    2019-07-05   \n",
              "3  Entire home/apt     80             10                  9    2018-11-19   \n",
              "4  Entire home/apt    200              3                 74    2019-06-22   \n",
              "\n",
              "   reviews_por_mes  calculado_host_listings_count  disponibilidade_365  \n",
              "0             0.38                              2                  355  \n",
              "1              NaN                              1                  365  \n",
              "2             4.64                              1                  194  \n",
              "3             0.10                              1                    0  \n",
              "4             0.59                              1                  129  "
            ],
            "text/html": [
              "\n",
              "  <div id=\"df-fc054fbf-5ec5-419d-88dc-3efe5146c85a\" class=\"colab-df-container\">\n",
              "    <div>\n",
              "<style scoped>\n",
              "    .dataframe tbody tr th:only-of-type {\n",
              "        vertical-align: middle;\n",
              "    }\n",
              "\n",
              "    .dataframe tbody tr th {\n",
              "        vertical-align: top;\n",
              "    }\n",
              "\n",
              "    .dataframe thead th {\n",
              "        text-align: right;\n",
              "    }\n",
              "</style>\n",
              "<table border=\"1\" class=\"dataframe\">\n",
              "  <thead>\n",
              "    <tr style=\"text-align: right;\">\n",
              "      <th></th>\n",
              "      <th>id</th>\n",
              "      <th>nome</th>\n",
              "      <th>host_id</th>\n",
              "      <th>host_name</th>\n",
              "      <th>bairro_group</th>\n",
              "      <th>bairro</th>\n",
              "      <th>latitude</th>\n",
              "      <th>longitude</th>\n",
              "      <th>room_type</th>\n",
              "      <th>price</th>\n",
              "      <th>minimo_noites</th>\n",
              "      <th>numero_de_reviews</th>\n",
              "      <th>ultima_review</th>\n",
              "      <th>reviews_por_mes</th>\n",
              "      <th>calculado_host_listings_count</th>\n",
              "      <th>disponibilidade_365</th>\n",
              "    </tr>\n",
              "  </thead>\n",
              "  <tbody>\n",
              "    <tr>\n",
              "      <th>0</th>\n",
              "      <td>2595</td>\n",
              "      <td>Skylit Midtown Castle</td>\n",
              "      <td>2845</td>\n",
              "      <td>Jennifer</td>\n",
              "      <td>Manhattan</td>\n",
              "      <td>Midtown</td>\n",
              "      <td>40.75362</td>\n",
              "      <td>-73.98377</td>\n",
              "      <td>Entire home/apt</td>\n",
              "      <td>225</td>\n",
              "      <td>1</td>\n",
              "      <td>45</td>\n",
              "      <td>2019-05-21</td>\n",
              "      <td>0.38</td>\n",
              "      <td>2</td>\n",
              "      <td>355</td>\n",
              "    </tr>\n",
              "    <tr>\n",
              "      <th>1</th>\n",
              "      <td>3647</td>\n",
              "      <td>THE VILLAGE OF HARLEM....NEW YORK !</td>\n",
              "      <td>4632</td>\n",
              "      <td>Elisabeth</td>\n",
              "      <td>Manhattan</td>\n",
              "      <td>Harlem</td>\n",
              "      <td>40.80902</td>\n",
              "      <td>-73.94190</td>\n",
              "      <td>Private room</td>\n",
              "      <td>150</td>\n",
              "      <td>3</td>\n",
              "      <td>0</td>\n",
              "      <td>NaN</td>\n",
              "      <td>NaN</td>\n",
              "      <td>1</td>\n",
              "      <td>365</td>\n",
              "    </tr>\n",
              "    <tr>\n",
              "      <th>2</th>\n",
              "      <td>3831</td>\n",
              "      <td>Cozy Entire Floor of Brownstone</td>\n",
              "      <td>4869</td>\n",
              "      <td>LisaRoxanne</td>\n",
              "      <td>Brooklyn</td>\n",
              "      <td>Clinton Hill</td>\n",
              "      <td>40.68514</td>\n",
              "      <td>-73.95976</td>\n",
              "      <td>Entire home/apt</td>\n",
              "      <td>89</td>\n",
              "      <td>1</td>\n",
              "      <td>270</td>\n",
              "      <td>2019-07-05</td>\n",
              "      <td>4.64</td>\n",
              "      <td>1</td>\n",
              "      <td>194</td>\n",
              "    </tr>\n",
              "    <tr>\n",
              "      <th>3</th>\n",
              "      <td>5022</td>\n",
              "      <td>Entire Apt: Spacious Studio/Loft by central park</td>\n",
              "      <td>7192</td>\n",
              "      <td>Laura</td>\n",
              "      <td>Manhattan</td>\n",
              "      <td>East Harlem</td>\n",
              "      <td>40.79851</td>\n",
              "      <td>-73.94399</td>\n",
              "      <td>Entire home/apt</td>\n",
              "      <td>80</td>\n",
              "      <td>10</td>\n",
              "      <td>9</td>\n",
              "      <td>2018-11-19</td>\n",
              "      <td>0.10</td>\n",
              "      <td>1</td>\n",
              "      <td>0</td>\n",
              "    </tr>\n",
              "    <tr>\n",
              "      <th>4</th>\n",
              "      <td>5099</td>\n",
              "      <td>Large Cozy 1 BR Apartment In Midtown East</td>\n",
              "      <td>7322</td>\n",
              "      <td>Chris</td>\n",
              "      <td>Manhattan</td>\n",
              "      <td>Murray Hill</td>\n",
              "      <td>40.74767</td>\n",
              "      <td>-73.97500</td>\n",
              "      <td>Entire home/apt</td>\n",
              "      <td>200</td>\n",
              "      <td>3</td>\n",
              "      <td>74</td>\n",
              "      <td>2019-06-22</td>\n",
              "      <td>0.59</td>\n",
              "      <td>1</td>\n",
              "      <td>129</td>\n",
              "    </tr>\n",
              "  </tbody>\n",
              "</table>\n",
              "</div>\n",
              "    <div class=\"colab-df-buttons\">\n",
              "\n",
              "  <div class=\"colab-df-container\">\n",
              "    <button class=\"colab-df-convert\" onclick=\"convertToInteractive('df-fc054fbf-5ec5-419d-88dc-3efe5146c85a')\"\n",
              "            title=\"Convert this dataframe to an interactive table.\"\n",
              "            style=\"display:none;\">\n",
              "\n",
              "  <svg xmlns=\"http://www.w3.org/2000/svg\" height=\"24px\" viewBox=\"0 -960 960 960\">\n",
              "    <path d=\"M120-120v-720h720v720H120Zm60-500h600v-160H180v160Zm220 220h160v-160H400v160Zm0 220h160v-160H400v160ZM180-400h160v-160H180v160Zm440 0h160v-160H620v160ZM180-180h160v-160H180v160Zm440 0h160v-160H620v160Z\"/>\n",
              "  </svg>\n",
              "    </button>\n",
              "\n",
              "  <style>\n",
              "    .colab-df-container {\n",
              "      display:flex;\n",
              "      gap: 12px;\n",
              "    }\n",
              "\n",
              "    .colab-df-convert {\n",
              "      background-color: #E8F0FE;\n",
              "      border: none;\n",
              "      border-radius: 50%;\n",
              "      cursor: pointer;\n",
              "      display: none;\n",
              "      fill: #1967D2;\n",
              "      height: 32px;\n",
              "      padding: 0 0 0 0;\n",
              "      width: 32px;\n",
              "    }\n",
              "\n",
              "    .colab-df-convert:hover {\n",
              "      background-color: #E2EBFA;\n",
              "      box-shadow: 0px 1px 2px rgba(60, 64, 67, 0.3), 0px 1px 3px 1px rgba(60, 64, 67, 0.15);\n",
              "      fill: #174EA6;\n",
              "    }\n",
              "\n",
              "    .colab-df-buttons div {\n",
              "      margin-bottom: 4px;\n",
              "    }\n",
              "\n",
              "    [theme=dark] .colab-df-convert {\n",
              "      background-color: #3B4455;\n",
              "      fill: #D2E3FC;\n",
              "    }\n",
              "\n",
              "    [theme=dark] .colab-df-convert:hover {\n",
              "      background-color: #434B5C;\n",
              "      box-shadow: 0px 1px 3px 1px rgba(0, 0, 0, 0.15);\n",
              "      filter: drop-shadow(0px 1px 2px rgba(0, 0, 0, 0.3));\n",
              "      fill: #FFFFFF;\n",
              "    }\n",
              "  </style>\n",
              "\n",
              "    <script>\n",
              "      const buttonEl =\n",
              "        document.querySelector('#df-fc054fbf-5ec5-419d-88dc-3efe5146c85a button.colab-df-convert');\n",
              "      buttonEl.style.display =\n",
              "        google.colab.kernel.accessAllowed ? 'block' : 'none';\n",
              "\n",
              "      async function convertToInteractive(key) {\n",
              "        const element = document.querySelector('#df-fc054fbf-5ec5-419d-88dc-3efe5146c85a');\n",
              "        const dataTable =\n",
              "          await google.colab.kernel.invokeFunction('convertToInteractive',\n",
              "                                                    [key], {});\n",
              "        if (!dataTable) return;\n",
              "\n",
              "        const docLinkHtml = 'Like what you see? Visit the ' +\n",
              "          '<a target=\"_blank\" href=https://colab.research.google.com/notebooks/data_table.ipynb>data table notebook</a>'\n",
              "          + ' to learn more about interactive tables.';\n",
              "        element.innerHTML = '';\n",
              "        dataTable['output_type'] = 'display_data';\n",
              "        await google.colab.output.renderOutput(dataTable, element);\n",
              "        const docLink = document.createElement('div');\n",
              "        docLink.innerHTML = docLinkHtml;\n",
              "        element.appendChild(docLink);\n",
              "      }\n",
              "    </script>\n",
              "  </div>\n",
              "\n",
              "\n",
              "<div id=\"df-8f299b7d-3701-42b8-ab65-193449ae686f\">\n",
              "  <button class=\"colab-df-quickchart\" onclick=\"quickchart('df-8f299b7d-3701-42b8-ab65-193449ae686f')\"\n",
              "            title=\"Suggest charts\"\n",
              "            style=\"display:none;\">\n",
              "\n",
              "<svg xmlns=\"http://www.w3.org/2000/svg\" height=\"24px\"viewBox=\"0 0 24 24\"\n",
              "     width=\"24px\">\n",
              "    <g>\n",
              "        <path d=\"M19 3H5c-1.1 0-2 .9-2 2v14c0 1.1.9 2 2 2h14c1.1 0 2-.9 2-2V5c0-1.1-.9-2-2-2zM9 17H7v-7h2v7zm4 0h-2V7h2v10zm4 0h-2v-4h2v4z\"/>\n",
              "    </g>\n",
              "</svg>\n",
              "  </button>\n",
              "\n",
              "<style>\n",
              "  .colab-df-quickchart {\n",
              "      --bg-color: #E8F0FE;\n",
              "      --fill-color: #1967D2;\n",
              "      --hover-bg-color: #E2EBFA;\n",
              "      --hover-fill-color: #174EA6;\n",
              "      --disabled-fill-color: #AAA;\n",
              "      --disabled-bg-color: #DDD;\n",
              "  }\n",
              "\n",
              "  [theme=dark] .colab-df-quickchart {\n",
              "      --bg-color: #3B4455;\n",
              "      --fill-color: #D2E3FC;\n",
              "      --hover-bg-color: #434B5C;\n",
              "      --hover-fill-color: #FFFFFF;\n",
              "      --disabled-bg-color: #3B4455;\n",
              "      --disabled-fill-color: #666;\n",
              "  }\n",
              "\n",
              "  .colab-df-quickchart {\n",
              "    background-color: var(--bg-color);\n",
              "    border: none;\n",
              "    border-radius: 50%;\n",
              "    cursor: pointer;\n",
              "    display: none;\n",
              "    fill: var(--fill-color);\n",
              "    height: 32px;\n",
              "    padding: 0;\n",
              "    width: 32px;\n",
              "  }\n",
              "\n",
              "  .colab-df-quickchart:hover {\n",
              "    background-color: var(--hover-bg-color);\n",
              "    box-shadow: 0 1px 2px rgba(60, 64, 67, 0.3), 0 1px 3px 1px rgba(60, 64, 67, 0.15);\n",
              "    fill: var(--button-hover-fill-color);\n",
              "  }\n",
              "\n",
              "  .colab-df-quickchart-complete:disabled,\n",
              "  .colab-df-quickchart-complete:disabled:hover {\n",
              "    background-color: var(--disabled-bg-color);\n",
              "    fill: var(--disabled-fill-color);\n",
              "    box-shadow: none;\n",
              "  }\n",
              "\n",
              "  .colab-df-spinner {\n",
              "    border: 2px solid var(--fill-color);\n",
              "    border-color: transparent;\n",
              "    border-bottom-color: var(--fill-color);\n",
              "    animation:\n",
              "      spin 1s steps(1) infinite;\n",
              "  }\n",
              "\n",
              "  @keyframes spin {\n",
              "    0% {\n",
              "      border-color: transparent;\n",
              "      border-bottom-color: var(--fill-color);\n",
              "      border-left-color: var(--fill-color);\n",
              "    }\n",
              "    20% {\n",
              "      border-color: transparent;\n",
              "      border-left-color: var(--fill-color);\n",
              "      border-top-color: var(--fill-color);\n",
              "    }\n",
              "    30% {\n",
              "      border-color: transparent;\n",
              "      border-left-color: var(--fill-color);\n",
              "      border-top-color: var(--fill-color);\n",
              "      border-right-color: var(--fill-color);\n",
              "    }\n",
              "    40% {\n",
              "      border-color: transparent;\n",
              "      border-right-color: var(--fill-color);\n",
              "      border-top-color: var(--fill-color);\n",
              "    }\n",
              "    60% {\n",
              "      border-color: transparent;\n",
              "      border-right-color: var(--fill-color);\n",
              "    }\n",
              "    80% {\n",
              "      border-color: transparent;\n",
              "      border-right-color: var(--fill-color);\n",
              "      border-bottom-color: var(--fill-color);\n",
              "    }\n",
              "    90% {\n",
              "      border-color: transparent;\n",
              "      border-bottom-color: var(--fill-color);\n",
              "    }\n",
              "  }\n",
              "</style>\n",
              "\n",
              "  <script>\n",
              "    async function quickchart(key) {\n",
              "      const quickchartButtonEl =\n",
              "        document.querySelector('#' + key + ' button');\n",
              "      quickchartButtonEl.disabled = true;  // To prevent multiple clicks.\n",
              "      quickchartButtonEl.classList.add('colab-df-spinner');\n",
              "      try {\n",
              "        const charts = await google.colab.kernel.invokeFunction(\n",
              "            'suggestCharts', [key], {});\n",
              "      } catch (error) {\n",
              "        console.error('Error during call to suggestCharts:', error);\n",
              "      }\n",
              "      quickchartButtonEl.classList.remove('colab-df-spinner');\n",
              "      quickchartButtonEl.classList.add('colab-df-quickchart-complete');\n",
              "    }\n",
              "    (() => {\n",
              "      let quickchartButtonEl =\n",
              "        document.querySelector('#df-8f299b7d-3701-42b8-ab65-193449ae686f button');\n",
              "      quickchartButtonEl.style.display =\n",
              "        google.colab.kernel.accessAllowed ? 'block' : 'none';\n",
              "    })();\n",
              "  </script>\n",
              "</div>\n",
              "\n",
              "    </div>\n",
              "  </div>\n"
            ],
            "application/vnd.google.colaboratory.intrinsic+json": {
              "type": "dataframe",
              "variable_name": "df",
              "summary": "{\n  \"name\": \"df\",\n  \"rows\": 48894,\n  \"fields\": [\n    {\n      \"column\": \"id\",\n      \"properties\": {\n        \"dtype\": \"number\",\n        \"std\": 10982884,\n        \"min\": 2595,\n        \"max\": 36487245,\n        \"num_unique_values\": 48894,\n        \"samples\": [\n          318021,\n          35729594,\n          12342441\n        ],\n        \"semantic_type\": \"\",\n        \"description\": \"\"\n      }\n    },\n    {\n      \"column\": \"nome\",\n      \"properties\": {\n        \"dtype\": \"string\",\n        \"num_unique_values\": 47904,\n        \"samples\": [\n          \"Luxurious Penthouse 3bed/2bath Apt w/Gym, Doorman\",\n          \"Bright Room in Williamsburg\",\n          \"Manhattan apt in the best part of NYC\"\n        ],\n        \"semantic_type\": \"\",\n        \"description\": \"\"\n      }\n    },\n    {\n      \"column\": \"host_id\",\n      \"properties\": {\n        \"dtype\": \"number\",\n        \"std\": 78611176,\n        \"min\": 2438,\n        \"max\": 274321313,\n        \"num_unique_values\": 37457,\n        \"samples\": [\n          15355526,\n          5592151,\n          208938947\n        ],\n        \"semantic_type\": \"\",\n        \"description\": \"\"\n      }\n    },\n    {\n      \"column\": \"host_name\",\n      \"properties\": {\n        \"dtype\": \"category\",\n        \"num_unique_values\": 11452,\n        \"samples\": [\n          \"Eki\",\n          \"Laine\",\n          \"Elen\"\n        ],\n        \"semantic_type\": \"\",\n        \"description\": \"\"\n      }\n    },\n    {\n      \"column\": \"bairro_group\",\n      \"properties\": {\n        \"dtype\": \"category\",\n        \"num_unique_values\": 5,\n        \"samples\": [\n          \"Brooklyn\",\n          \"Bronx\",\n          \"Queens\"\n        ],\n        \"semantic_type\": \"\",\n        \"description\": \"\"\n      }\n    },\n    {\n      \"column\": \"bairro\",\n      \"properties\": {\n        \"dtype\": \"category\",\n        \"num_unique_values\": 221,\n        \"samples\": [\n          \"Stuyvesant Town\",\n          \"Eltingville\",\n          \"Stapleton\"\n        ],\n        \"semantic_type\": \"\",\n        \"description\": \"\"\n      }\n    },\n    {\n      \"column\": \"latitude\",\n      \"properties\": {\n        \"dtype\": \"number\",\n        \"std\": 0.05452939126301223,\n        \"min\": 40.49979,\n        \"max\": 40.91306,\n        \"num_unique_values\": 19048,\n        \"samples\": [\n          40.58633,\n          40.75961,\n          40.82243\n        ],\n        \"semantic_type\": \"\",\n        \"description\": \"\"\n      }\n    },\n    {\n      \"column\": \"longitude\",\n      \"properties\": {\n        \"dtype\": \"number\",\n        \"std\": 0.04615711771264059,\n        \"min\": -74.24442,\n        \"max\": -73.71299,\n        \"num_unique_values\": 14718,\n        \"samples\": [\n          -73.88892,\n          -73.87851,\n          -73.97175\n        ],\n        \"semantic_type\": \"\",\n        \"description\": \"\"\n      }\n    },\n    {\n      \"column\": \"room_type\",\n      \"properties\": {\n        \"dtype\": \"category\",\n        \"num_unique_values\": 3,\n        \"samples\": [\n          \"Entire home/apt\",\n          \"Private room\",\n          \"Shared room\"\n        ],\n        \"semantic_type\": \"\",\n        \"description\": \"\"\n      }\n    },\n    {\n      \"column\": \"price\",\n      \"properties\": {\n        \"dtype\": \"number\",\n        \"std\": 240,\n        \"min\": 0,\n        \"max\": 10000,\n        \"num_unique_values\": 674,\n        \"samples\": [\n          519,\n          675,\n          488\n        ],\n        \"semantic_type\": \"\",\n        \"description\": \"\"\n      }\n    },\n    {\n      \"column\": \"minimo_noites\",\n      \"properties\": {\n        \"dtype\": \"number\",\n        \"std\": 20,\n        \"min\": 1,\n        \"max\": 1250,\n        \"num_unique_values\": 109,\n        \"samples\": [\n          160,\n          60,\n          2\n        ],\n        \"semantic_type\": \"\",\n        \"description\": \"\"\n      }\n    },\n    {\n      \"column\": \"numero_de_reviews\",\n      \"properties\": {\n        \"dtype\": \"number\",\n        \"std\": 44,\n        \"min\": 0,\n        \"max\": 629,\n        \"num_unique_values\": 394,\n        \"samples\": [\n          12,\n          144,\n          314\n        ],\n        \"semantic_type\": \"\",\n        \"description\": \"\"\n      }\n    },\n    {\n      \"column\": \"ultima_review\",\n      \"properties\": {\n        \"dtype\": \"object\",\n        \"num_unique_values\": 1764,\n        \"samples\": [\n          \"2018-05-17\",\n          \"2017-06-18\",\n          \"2019-02-27\"\n        ],\n        \"semantic_type\": \"\",\n        \"description\": \"\"\n      }\n    },\n    {\n      \"column\": \"reviews_por_mes\",\n      \"properties\": {\n        \"dtype\": \"number\",\n        \"std\": 1.6804532620153876,\n        \"min\": 0.01,\n        \"max\": 58.5,\n        \"num_unique_values\": 937,\n        \"samples\": [\n          1.7,\n          3.4,\n          2.14\n        ],\n        \"semantic_type\": \"\",\n        \"description\": \"\"\n      }\n    },\n    {\n      \"column\": \"calculado_host_listings_count\",\n      \"properties\": {\n        \"dtype\": \"number\",\n        \"std\": 32,\n        \"min\": 1,\n        \"max\": 327,\n        \"num_unique_values\": 47,\n        \"samples\": [\n          37,\n          17,\n          121\n        ],\n        \"semantic_type\": \"\",\n        \"description\": \"\"\n      }\n    },\n    {\n      \"column\": \"disponibilidade_365\",\n      \"properties\": {\n        \"dtype\": \"number\",\n        \"std\": 131,\n        \"min\": 0,\n        \"max\": 365,\n        \"num_unique_values\": 366,\n        \"samples\": [\n          335,\n          309,\n          249\n        ],\n        \"semantic_type\": \"\",\n        \"description\": \"\"\n      }\n    }\n  ]\n}"
            }
          },
          "metadata": {},
          "execution_count": 4
        }
      ],
      "source": [
        "\n",
        "# Arquivo CSV direto do repositorio Github\n",
        "url = \"https://raw.githubusercontent.com/RafaelLima00/LH_CD_RafaelLima/main/teste_indicium_precificacao.csv\"\n",
        "\n",
        "# Leitura do arquivo CSV\n",
        "df = pd.read_csv(url)\n",
        "\n",
        "# Exibindo dataframe\n",
        "df.head()\n"
      ]
    },
    {
      "cell_type": "code",
      "execution_count": 5,
      "id": "487ddcec",
      "metadata": {
        "colab": {
          "base_uri": "https://localhost:8080/",
          "height": 469
        },
        "id": "487ddcec",
        "outputId": "323ba79a-7f69-4d0a-aa7e-fac8ef97b974"
      },
      "outputs": [
        {
          "output_type": "execute_result",
          "data": {
            "text/plain": [
              "             id                                               nome   host_id  \\\n",
              "48889  36484665    Charming one bedroom - newly renovated rowhouse   8232441   \n",
              "48890  36485057      Affordable room in Bushwick/East Williamsburg   6570630   \n",
              "48891  36485431            Sunny Studio at Historical Neighborhood  23492952   \n",
              "48892  36485609               43rd St. Time Square-cozy single bed  30985759   \n",
              "48893  36487245  Trendy duplex in the very heart of Hell's Kitchen  68119814   \n",
              "\n",
              "           host_name bairro_group              bairro  latitude  longitude  \\\n",
              "48889        Sabrina     Brooklyn  Bedford-Stuyvesant  40.67853  -73.94995   \n",
              "48890        Marisol     Brooklyn            Bushwick  40.70184  -73.93317   \n",
              "48891  Ilgar & Aysel    Manhattan              Harlem  40.81475  -73.94867   \n",
              "48892            Taz    Manhattan      Hell's Kitchen  40.75751  -73.99112   \n",
              "48893     Christophe    Manhattan      Hell's Kitchen  40.76404  -73.98933   \n",
              "\n",
              "             room_type  price  minimo_noites  numero_de_reviews ultima_review  \\\n",
              "48889     Private room     70              2                  0           NaN   \n",
              "48890     Private room     40              4                  0           NaN   \n",
              "48891  Entire home/apt    115             10                  0           NaN   \n",
              "48892      Shared room     55              1                  0           NaN   \n",
              "48893     Private room     90              7                  0           NaN   \n",
              "\n",
              "       reviews_por_mes  calculado_host_listings_count  disponibilidade_365  \n",
              "48889              NaN                              2                    9  \n",
              "48890              NaN                              2                   36  \n",
              "48891              NaN                              1                   27  \n",
              "48892              NaN                              6                    2  \n",
              "48893              NaN                              1                   23  "
            ],
            "text/html": [
              "\n",
              "  <div id=\"df-f5c0559c-21b1-471b-b283-b536a8bc8568\" class=\"colab-df-container\">\n",
              "    <div>\n",
              "<style scoped>\n",
              "    .dataframe tbody tr th:only-of-type {\n",
              "        vertical-align: middle;\n",
              "    }\n",
              "\n",
              "    .dataframe tbody tr th {\n",
              "        vertical-align: top;\n",
              "    }\n",
              "\n",
              "    .dataframe thead th {\n",
              "        text-align: right;\n",
              "    }\n",
              "</style>\n",
              "<table border=\"1\" class=\"dataframe\">\n",
              "  <thead>\n",
              "    <tr style=\"text-align: right;\">\n",
              "      <th></th>\n",
              "      <th>id</th>\n",
              "      <th>nome</th>\n",
              "      <th>host_id</th>\n",
              "      <th>host_name</th>\n",
              "      <th>bairro_group</th>\n",
              "      <th>bairro</th>\n",
              "      <th>latitude</th>\n",
              "      <th>longitude</th>\n",
              "      <th>room_type</th>\n",
              "      <th>price</th>\n",
              "      <th>minimo_noites</th>\n",
              "      <th>numero_de_reviews</th>\n",
              "      <th>ultima_review</th>\n",
              "      <th>reviews_por_mes</th>\n",
              "      <th>calculado_host_listings_count</th>\n",
              "      <th>disponibilidade_365</th>\n",
              "    </tr>\n",
              "  </thead>\n",
              "  <tbody>\n",
              "    <tr>\n",
              "      <th>48889</th>\n",
              "      <td>36484665</td>\n",
              "      <td>Charming one bedroom - newly renovated rowhouse</td>\n",
              "      <td>8232441</td>\n",
              "      <td>Sabrina</td>\n",
              "      <td>Brooklyn</td>\n",
              "      <td>Bedford-Stuyvesant</td>\n",
              "      <td>40.67853</td>\n",
              "      <td>-73.94995</td>\n",
              "      <td>Private room</td>\n",
              "      <td>70</td>\n",
              "      <td>2</td>\n",
              "      <td>0</td>\n",
              "      <td>NaN</td>\n",
              "      <td>NaN</td>\n",
              "      <td>2</td>\n",
              "      <td>9</td>\n",
              "    </tr>\n",
              "    <tr>\n",
              "      <th>48890</th>\n",
              "      <td>36485057</td>\n",
              "      <td>Affordable room in Bushwick/East Williamsburg</td>\n",
              "      <td>6570630</td>\n",
              "      <td>Marisol</td>\n",
              "      <td>Brooklyn</td>\n",
              "      <td>Bushwick</td>\n",
              "      <td>40.70184</td>\n",
              "      <td>-73.93317</td>\n",
              "      <td>Private room</td>\n",
              "      <td>40</td>\n",
              "      <td>4</td>\n",
              "      <td>0</td>\n",
              "      <td>NaN</td>\n",
              "      <td>NaN</td>\n",
              "      <td>2</td>\n",
              "      <td>36</td>\n",
              "    </tr>\n",
              "    <tr>\n",
              "      <th>48891</th>\n",
              "      <td>36485431</td>\n",
              "      <td>Sunny Studio at Historical Neighborhood</td>\n",
              "      <td>23492952</td>\n",
              "      <td>Ilgar &amp; Aysel</td>\n",
              "      <td>Manhattan</td>\n",
              "      <td>Harlem</td>\n",
              "      <td>40.81475</td>\n",
              "      <td>-73.94867</td>\n",
              "      <td>Entire home/apt</td>\n",
              "      <td>115</td>\n",
              "      <td>10</td>\n",
              "      <td>0</td>\n",
              "      <td>NaN</td>\n",
              "      <td>NaN</td>\n",
              "      <td>1</td>\n",
              "      <td>27</td>\n",
              "    </tr>\n",
              "    <tr>\n",
              "      <th>48892</th>\n",
              "      <td>36485609</td>\n",
              "      <td>43rd St. Time Square-cozy single bed</td>\n",
              "      <td>30985759</td>\n",
              "      <td>Taz</td>\n",
              "      <td>Manhattan</td>\n",
              "      <td>Hell's Kitchen</td>\n",
              "      <td>40.75751</td>\n",
              "      <td>-73.99112</td>\n",
              "      <td>Shared room</td>\n",
              "      <td>55</td>\n",
              "      <td>1</td>\n",
              "      <td>0</td>\n",
              "      <td>NaN</td>\n",
              "      <td>NaN</td>\n",
              "      <td>6</td>\n",
              "      <td>2</td>\n",
              "    </tr>\n",
              "    <tr>\n",
              "      <th>48893</th>\n",
              "      <td>36487245</td>\n",
              "      <td>Trendy duplex in the very heart of Hell's Kitchen</td>\n",
              "      <td>68119814</td>\n",
              "      <td>Christophe</td>\n",
              "      <td>Manhattan</td>\n",
              "      <td>Hell's Kitchen</td>\n",
              "      <td>40.76404</td>\n",
              "      <td>-73.98933</td>\n",
              "      <td>Private room</td>\n",
              "      <td>90</td>\n",
              "      <td>7</td>\n",
              "      <td>0</td>\n",
              "      <td>NaN</td>\n",
              "      <td>NaN</td>\n",
              "      <td>1</td>\n",
              "      <td>23</td>\n",
              "    </tr>\n",
              "  </tbody>\n",
              "</table>\n",
              "</div>\n",
              "    <div class=\"colab-df-buttons\">\n",
              "\n",
              "  <div class=\"colab-df-container\">\n",
              "    <button class=\"colab-df-convert\" onclick=\"convertToInteractive('df-f5c0559c-21b1-471b-b283-b536a8bc8568')\"\n",
              "            title=\"Convert this dataframe to an interactive table.\"\n",
              "            style=\"display:none;\">\n",
              "\n",
              "  <svg xmlns=\"http://www.w3.org/2000/svg\" height=\"24px\" viewBox=\"0 -960 960 960\">\n",
              "    <path d=\"M120-120v-720h720v720H120Zm60-500h600v-160H180v160Zm220 220h160v-160H400v160Zm0 220h160v-160H400v160ZM180-400h160v-160H180v160Zm440 0h160v-160H620v160ZM180-180h160v-160H180v160Zm440 0h160v-160H620v160Z\"/>\n",
              "  </svg>\n",
              "    </button>\n",
              "\n",
              "  <style>\n",
              "    .colab-df-container {\n",
              "      display:flex;\n",
              "      gap: 12px;\n",
              "    }\n",
              "\n",
              "    .colab-df-convert {\n",
              "      background-color: #E8F0FE;\n",
              "      border: none;\n",
              "      border-radius: 50%;\n",
              "      cursor: pointer;\n",
              "      display: none;\n",
              "      fill: #1967D2;\n",
              "      height: 32px;\n",
              "      padding: 0 0 0 0;\n",
              "      width: 32px;\n",
              "    }\n",
              "\n",
              "    .colab-df-convert:hover {\n",
              "      background-color: #E2EBFA;\n",
              "      box-shadow: 0px 1px 2px rgba(60, 64, 67, 0.3), 0px 1px 3px 1px rgba(60, 64, 67, 0.15);\n",
              "      fill: #174EA6;\n",
              "    }\n",
              "\n",
              "    .colab-df-buttons div {\n",
              "      margin-bottom: 4px;\n",
              "    }\n",
              "\n",
              "    [theme=dark] .colab-df-convert {\n",
              "      background-color: #3B4455;\n",
              "      fill: #D2E3FC;\n",
              "    }\n",
              "\n",
              "    [theme=dark] .colab-df-convert:hover {\n",
              "      background-color: #434B5C;\n",
              "      box-shadow: 0px 1px 3px 1px rgba(0, 0, 0, 0.15);\n",
              "      filter: drop-shadow(0px 1px 2px rgba(0, 0, 0, 0.3));\n",
              "      fill: #FFFFFF;\n",
              "    }\n",
              "  </style>\n",
              "\n",
              "    <script>\n",
              "      const buttonEl =\n",
              "        document.querySelector('#df-f5c0559c-21b1-471b-b283-b536a8bc8568 button.colab-df-convert');\n",
              "      buttonEl.style.display =\n",
              "        google.colab.kernel.accessAllowed ? 'block' : 'none';\n",
              "\n",
              "      async function convertToInteractive(key) {\n",
              "        const element = document.querySelector('#df-f5c0559c-21b1-471b-b283-b536a8bc8568');\n",
              "        const dataTable =\n",
              "          await google.colab.kernel.invokeFunction('convertToInteractive',\n",
              "                                                    [key], {});\n",
              "        if (!dataTable) return;\n",
              "\n",
              "        const docLinkHtml = 'Like what you see? Visit the ' +\n",
              "          '<a target=\"_blank\" href=https://colab.research.google.com/notebooks/data_table.ipynb>data table notebook</a>'\n",
              "          + ' to learn more about interactive tables.';\n",
              "        element.innerHTML = '';\n",
              "        dataTable['output_type'] = 'display_data';\n",
              "        await google.colab.output.renderOutput(dataTable, element);\n",
              "        const docLink = document.createElement('div');\n",
              "        docLink.innerHTML = docLinkHtml;\n",
              "        element.appendChild(docLink);\n",
              "      }\n",
              "    </script>\n",
              "  </div>\n",
              "\n",
              "\n",
              "<div id=\"df-51e125cc-d279-4bec-94b3-92f7f21a23e8\">\n",
              "  <button class=\"colab-df-quickchart\" onclick=\"quickchart('df-51e125cc-d279-4bec-94b3-92f7f21a23e8')\"\n",
              "            title=\"Suggest charts\"\n",
              "            style=\"display:none;\">\n",
              "\n",
              "<svg xmlns=\"http://www.w3.org/2000/svg\" height=\"24px\"viewBox=\"0 0 24 24\"\n",
              "     width=\"24px\">\n",
              "    <g>\n",
              "        <path d=\"M19 3H5c-1.1 0-2 .9-2 2v14c0 1.1.9 2 2 2h14c1.1 0 2-.9 2-2V5c0-1.1-.9-2-2-2zM9 17H7v-7h2v7zm4 0h-2V7h2v10zm4 0h-2v-4h2v4z\"/>\n",
              "    </g>\n",
              "</svg>\n",
              "  </button>\n",
              "\n",
              "<style>\n",
              "  .colab-df-quickchart {\n",
              "      --bg-color: #E8F0FE;\n",
              "      --fill-color: #1967D2;\n",
              "      --hover-bg-color: #E2EBFA;\n",
              "      --hover-fill-color: #174EA6;\n",
              "      --disabled-fill-color: #AAA;\n",
              "      --disabled-bg-color: #DDD;\n",
              "  }\n",
              "\n",
              "  [theme=dark] .colab-df-quickchart {\n",
              "      --bg-color: #3B4455;\n",
              "      --fill-color: #D2E3FC;\n",
              "      --hover-bg-color: #434B5C;\n",
              "      --hover-fill-color: #FFFFFF;\n",
              "      --disabled-bg-color: #3B4455;\n",
              "      --disabled-fill-color: #666;\n",
              "  }\n",
              "\n",
              "  .colab-df-quickchart {\n",
              "    background-color: var(--bg-color);\n",
              "    border: none;\n",
              "    border-radius: 50%;\n",
              "    cursor: pointer;\n",
              "    display: none;\n",
              "    fill: var(--fill-color);\n",
              "    height: 32px;\n",
              "    padding: 0;\n",
              "    width: 32px;\n",
              "  }\n",
              "\n",
              "  .colab-df-quickchart:hover {\n",
              "    background-color: var(--hover-bg-color);\n",
              "    box-shadow: 0 1px 2px rgba(60, 64, 67, 0.3), 0 1px 3px 1px rgba(60, 64, 67, 0.15);\n",
              "    fill: var(--button-hover-fill-color);\n",
              "  }\n",
              "\n",
              "  .colab-df-quickchart-complete:disabled,\n",
              "  .colab-df-quickchart-complete:disabled:hover {\n",
              "    background-color: var(--disabled-bg-color);\n",
              "    fill: var(--disabled-fill-color);\n",
              "    box-shadow: none;\n",
              "  }\n",
              "\n",
              "  .colab-df-spinner {\n",
              "    border: 2px solid var(--fill-color);\n",
              "    border-color: transparent;\n",
              "    border-bottom-color: var(--fill-color);\n",
              "    animation:\n",
              "      spin 1s steps(1) infinite;\n",
              "  }\n",
              "\n",
              "  @keyframes spin {\n",
              "    0% {\n",
              "      border-color: transparent;\n",
              "      border-bottom-color: var(--fill-color);\n",
              "      border-left-color: var(--fill-color);\n",
              "    }\n",
              "    20% {\n",
              "      border-color: transparent;\n",
              "      border-left-color: var(--fill-color);\n",
              "      border-top-color: var(--fill-color);\n",
              "    }\n",
              "    30% {\n",
              "      border-color: transparent;\n",
              "      border-left-color: var(--fill-color);\n",
              "      border-top-color: var(--fill-color);\n",
              "      border-right-color: var(--fill-color);\n",
              "    }\n",
              "    40% {\n",
              "      border-color: transparent;\n",
              "      border-right-color: var(--fill-color);\n",
              "      border-top-color: var(--fill-color);\n",
              "    }\n",
              "    60% {\n",
              "      border-color: transparent;\n",
              "      border-right-color: var(--fill-color);\n",
              "    }\n",
              "    80% {\n",
              "      border-color: transparent;\n",
              "      border-right-color: var(--fill-color);\n",
              "      border-bottom-color: var(--fill-color);\n",
              "    }\n",
              "    90% {\n",
              "      border-color: transparent;\n",
              "      border-bottom-color: var(--fill-color);\n",
              "    }\n",
              "  }\n",
              "</style>\n",
              "\n",
              "  <script>\n",
              "    async function quickchart(key) {\n",
              "      const quickchartButtonEl =\n",
              "        document.querySelector('#' + key + ' button');\n",
              "      quickchartButtonEl.disabled = true;  // To prevent multiple clicks.\n",
              "      quickchartButtonEl.classList.add('colab-df-spinner');\n",
              "      try {\n",
              "        const charts = await google.colab.kernel.invokeFunction(\n",
              "            'suggestCharts', [key], {});\n",
              "      } catch (error) {\n",
              "        console.error('Error during call to suggestCharts:', error);\n",
              "      }\n",
              "      quickchartButtonEl.classList.remove('colab-df-spinner');\n",
              "      quickchartButtonEl.classList.add('colab-df-quickchart-complete');\n",
              "    }\n",
              "    (() => {\n",
              "      let quickchartButtonEl =\n",
              "        document.querySelector('#df-51e125cc-d279-4bec-94b3-92f7f21a23e8 button');\n",
              "      quickchartButtonEl.style.display =\n",
              "        google.colab.kernel.accessAllowed ? 'block' : 'none';\n",
              "    })();\n",
              "  </script>\n",
              "</div>\n",
              "\n",
              "    </div>\n",
              "  </div>\n"
            ],
            "application/vnd.google.colaboratory.intrinsic+json": {
              "type": "dataframe",
              "repr_error": "0"
            }
          },
          "metadata": {},
          "execution_count": 5
        }
      ],
      "source": [
        "\n",
        "df.tail()"
      ]
    },
    {
      "cell_type": "markdown",
      "source": [
        "## Análise exploratória dos dados (EDA)"
      ],
      "metadata": {
        "id": "OpZ8Ft6eF-6y"
      },
      "id": "OpZ8Ft6eF-6y"
    },
    {
      "cell_type": "markdown",
      "source": [
        "**Agora vamos explorar a fundo os dados, para que possamos enteder quais serão as melhores maneiras de aproveitá los**."
      ],
      "metadata": {
        "id": "EiiEEQM3o0cc"
      },
      "id": "EiiEEQM3o0cc"
    },
    {
      "cell_type": "code",
      "execution_count": 6,
      "id": "bb2ef63b",
      "metadata": {
        "colab": {
          "base_uri": "https://localhost:8080/"
        },
        "id": "bb2ef63b",
        "outputId": "259b8a4a-48c8-4f5a-ac77-b974b74fb05d"
      },
      "outputs": [
        {
          "output_type": "stream",
          "name": "stdout",
          "text": [
            "<class 'pandas.core.frame.DataFrame'>\n",
            "RangeIndex: 48894 entries, 0 to 48893\n",
            "Data columns (total 16 columns):\n",
            " #   Column                         Non-Null Count  Dtype  \n",
            "---  ------                         --------------  -----  \n",
            " 0   id                             48894 non-null  int64  \n",
            " 1   nome                           48878 non-null  object \n",
            " 2   host_id                        48894 non-null  int64  \n",
            " 3   host_name                      48873 non-null  object \n",
            " 4   bairro_group                   48894 non-null  object \n",
            " 5   bairro                         48894 non-null  object \n",
            " 6   latitude                       48894 non-null  float64\n",
            " 7   longitude                      48894 non-null  float64\n",
            " 8   room_type                      48894 non-null  object \n",
            " 9   price                          48894 non-null  int64  \n",
            " 10  minimo_noites                  48894 non-null  int64  \n",
            " 11  numero_de_reviews              48894 non-null  int64  \n",
            " 12  ultima_review                  38842 non-null  object \n",
            " 13  reviews_por_mes                38842 non-null  float64\n",
            " 14  calculado_host_listings_count  48894 non-null  int64  \n",
            " 15  disponibilidade_365            48894 non-null  int64  \n",
            "dtypes: float64(3), int64(7), object(6)\n",
            "memory usage: 6.0+ MB\n"
          ]
        }
      ],
      "source": [
        "\n",
        "# Informações do dataset\n",
        "df.info()"
      ]
    },
    {
      "cell_type": "code",
      "execution_count": null,
      "id": "d0bb89db",
      "metadata": {
        "id": "d0bb89db"
      },
      "outputs": [],
      "source": [
        "\n",
        "# dataset apenas com colunas com valores numericos\n",
        "df_num = df.select_dtypes(include=['float64', 'int64'])\n",
        "# correlação das colunas\n",
        "df_num.corr()"
      ]
    },
    {
      "cell_type": "code",
      "execution_count": null,
      "id": "b36376c1",
      "metadata": {
        "id": "b36376c1"
      },
      "outputs": [],
      "source": [
        "\n",
        "# Calculando a matriz de correlação\n",
        "correlation_matrix = df_num.corr()\n",
        "\n",
        "# Criando o heatmap\n",
        "plt.figure(figsize=(10, 8))\n",
        "sns.heatmap(correlation_matrix, annot=True, fmt=\".2f\", cmap=\"coolwarm\", cbar=True, linewidths=0.5)\n",
        "plt.title(\"Heatmap de Correlação das Variáveis\", fontsize=16)\n",
        "plt.show()\n"
      ]
    },
    {
      "cell_type": "markdown",
      "source": [
        "**Aqui podemos vê que aguns dados possuem uma relação muito proxima, mas em sua maioria não há uma relaçao forte.**"
      ],
      "metadata": {
        "id": "3v3zVZYUqmTX"
      },
      "id": "3v3zVZYUqmTX"
    },
    {
      "cell_type": "code",
      "execution_count": null,
      "id": "5daa8772",
      "metadata": {
        "scrolled": true,
        "id": "5daa8772"
      },
      "outputs": [],
      "source": [
        "\n",
        "# Informaçoes das colunas com apenas numeros\n",
        "df_num.info()"
      ]
    },
    {
      "cell_type": "code",
      "execution_count": null,
      "id": "d64b5cce",
      "metadata": {
        "id": "d64b5cce"
      },
      "outputs": [],
      "source": [
        "\n",
        "# A distribuição das variaveis price, numero de reviews e disponivilidade\n",
        "variaveis = ['price', 'numero_de_reviews', 'disponibilidade_365']\n",
        "\n",
        "# Usando Loop para criar os histogramas\n",
        "for var in variaveis:\n",
        "    plt.figure(figsize=(8, 5))\n",
        "    plt.hist(df_num[var], bins=30, edgecolor='black', color='blue')\n",
        "    plt.title(f\"Distribuição de {var}\")\n",
        "    plt.xlabel(var)\n",
        "    plt.ylabel(\"Frequência\")\n",
        "    plt.grid(axis='y', linestyle='--', alpha=0.7)\n",
        "    plt.show()"
      ]
    },
    {
      "cell_type": "code",
      "execution_count": null,
      "id": "6c1b9545",
      "metadata": {
        "id": "6c1b9545"
      },
      "outputs": [],
      "source": [
        "\n",
        "# Em Boxplot\n",
        "for var in variaveis:\n",
        "    plt.figure(figsize=(8, 5))\n",
        "    plt.boxplot(df[var], vert=False, patch_artist=True,\n",
        "                boxprops=dict(facecolor='skyblue', color='black'),\n",
        "                medianprops=dict(color='red'),\n",
        "                whiskerprops=dict(color='black'),\n",
        "                capprops=dict(color='pink'))\n",
        "    plt.title(f\"Box Plot de {var}\")\n",
        "    plt.xlabel(var)\n",
        "    plt.grid(axis='x', linestyle='--', alpha=0.7)\n",
        "    plt.show()"
      ]
    },
    {
      "cell_type": "markdown",
      "source": [
        "### Entedendo as Relações da coluna preço com as outras\n"
      ],
      "metadata": {
        "id": "EqanaYuyK_Nl"
      },
      "id": "EqanaYuyK_Nl"
    },
    {
      "cell_type": "markdown",
      "source": [
        "Como o objetivo principal é fazer um modelo voltado para encontrar o preço, vamos entender como a coluna de preço se relacionar com as outras colunas."
      ],
      "metadata": {
        "id": "YYQPVaqsrbHh"
      },
      "id": "YYQPVaqsrbHh"
    },
    {
      "cell_type": "code",
      "execution_count": null,
      "id": "e0b3b0c2",
      "metadata": {
        "id": "e0b3b0c2"
      },
      "outputs": [],
      "source": [
        "\n",
        "# variaveis que podem ter alguma relação mais proporcional com o preço\n",
        "df_var = df[['price', 'latitude', 'longitude', 'minimo_noites', 'numero_de_reviews', 'disponibilidade_365']]\n",
        "\n",
        "# Correlação entre as variáveis\n",
        "corr = df_var.corr()\n",
        "\n",
        "# Gráfico de calor\n",
        "plt.figure(figsize=(8, 6))\n",
        "sns.heatmap(corr, annot=True, cmap='coolwarm', fmt='.2f', linewidths=0.5)\n",
        "plt.title('Correlação entre variáveis numéricas')\n",
        "plt.show()\n"
      ]
    },
    {
      "cell_type": "code",
      "execution_count": null,
      "id": "f168927f",
      "metadata": {
        "id": "f168927f"
      },
      "outputs": [],
      "source": [
        "\n",
        "# Entedendo a distribuição geográfica dos preços\n",
        "# Tamanho da figura\n",
        "plt.figure(figsize=(12, 8))\n",
        "\n",
        "# Criando o 'scatter plot' com latitude e longitude, colorindo pelo preço\n",
        "scatter = sns.scatterplot(\n",
        "    x=df['longitude'],\n",
        "    y=df['latitude'],\n",
        "    hue=df['price'],\n",
        "    palette=\"viridis\",\n",
        "    alpha=0.7,\n",
        "    edgecolor=None\n",
        ")\n",
        "\n",
        "# Adicionando título e rótulos\n",
        "plt.title(\"Distribuição Geográfica dos Anúncios por preço em Nova York\", fontsize=16)\n",
        "plt.xlabel(\"Longitude\", fontsize=12)\n",
        "plt.ylabel(\"Latitude\", fontsize=12)\n",
        "plt.legend(title=\"Preço\", loc='upper right')\n",
        "\n",
        "# Gráfico\n",
        "plt.show()"
      ]
    },
    {
      "cell_type": "code",
      "execution_count": null,
      "id": "59ac6e73",
      "metadata": {
        "id": "59ac6e73"
      },
      "outputs": [],
      "source": [
        "\n",
        "# Convertendo a coluna 'ultima_review' para datetime\n",
        "df['ultima_review'] = pd.to_datetime(df['ultima_review'], errors='coerce')\n",
        "\n",
        "# Extraindo o mês da data da ultima review\n",
        "df['month'] = df['ultima_review'].dt.month\n",
        "\n",
        "# Agrupando por mês e calculando a média do preço\n",
        "preco_medio_por_mes = df.groupby('month')['price'].mean()\n",
        "\n",
        "# Gráfico de linha\n",
        "plt.figure(figsize=(10, 6))\n",
        "sns.lineplot(data=preco_medio_por_mes, marker='o', color='b', linewidth=2)\n",
        "plt.title('Correlação do Preço e o ultimo review durante o ano')\n",
        "plt.xlabel('Mês')\n",
        "plt.ylabel('Preço Médio')\n",
        "plt.xticks(ticks=range(1, 13), labels=['Jan', 'Feb', 'Mar', 'Apr', 'May', 'Jun', 'Jul', 'Aug', 'Sep', 'Oct', 'Nov', 'Dec'])\n",
        "plt.grid(True, linestyle='-', alpha=0.7)\n",
        "plt.show()"
      ]
    },
    {
      "cell_type": "markdown",
      "source": [
        "### Onde é a melhor opção para comprar?"
      ],
      "metadata": {
        "id": "70sMjVoWLVoo"
      },
      "id": "70sMjVoWLVoo"
    },
    {
      "cell_type": "code",
      "execution_count": null,
      "id": "6dc463c0",
      "metadata": {
        "id": "6dc463c0"
      },
      "outputs": [],
      "source": [
        "\n",
        "# Preço médio por bairro\n",
        "preco_medio_bairro = df.groupby('bairro')['price'].mean()\n",
        "\n",
        "# Ordenando os bairros pelo preço médio de forma decrescente\n",
        "preco_medio_bairro = preco_medio_bairro.sort_values(ascending=False)\n",
        "\n",
        "# Crisndo o gráfico\n",
        "plt.figure(figsize=(12, 6))\n",
        "preco_medio_bairro.head(10).plot(kind='bar', color='blue', edgecolor='black')\n",
        "plt.title(\"Top 10 Bairros com Preço Médio Mais Elevado\")\n",
        "plt.xlabel('Bairro')\n",
        "plt.ylabel('Preço Médio (USD)')\n",
        "plt.xticks(rotation=90)\n",
        "\n",
        "# Ajuste para evitar sobreposição\n",
        "plt.tight_layout()\n",
        "\n",
        "# Exibindo o gráfico\n",
        "plt.show()"
      ]
    },
    {
      "cell_type": "code",
      "execution_count": null,
      "id": "643d7303",
      "metadata": {
        "id": "643d7303"
      },
      "outputs": [],
      "source": [
        "\n",
        "# Para quem quer os preços mais baixos:\n",
        "plt.figure(figsize=(12, 6))\n",
        "preco_medio_bairro.nsmallest(10).plot(kind='bar', color='lightcoral', edgecolor='black')\n",
        "plt.title(\"Top 10 Bairros com Preço Médio Mais Baixos\")\n",
        "plt.xlabel('Bairro')\n",
        "plt.ylabel('Preço Médio (USD)')\n",
        "plt.xticks(rotation=90)\n",
        "plt.show()\n"
      ]
    },
    {
      "cell_type": "markdown",
      "source": [
        "### O número mínimo de noites e a disponibilidade ao longo do ano interferem no preço?"
      ],
      "metadata": {
        "id": "3y9qyh5zJnZn"
      },
      "id": "3y9qyh5zJnZn"
    },
    {
      "cell_type": "code",
      "execution_count": null,
      "id": "4023711f",
      "metadata": {
        "scrolled": true,
        "id": "4023711f"
      },
      "outputs": [],
      "source": [
        "\n",
        "# Criando faixas de 20 dias para a variável 'disponibilidade_365'\n",
        "faixas_20_dias = pd.cut(df['disponibilidade_365'], bins=range(0, 366, 20), right=False, labels=[f'{i}-{i+19}' for i in range(0, 360, 20)])\n",
        "\n",
        "# Calculando a média de preço para cada faixa de 20 dias\n",
        "media_preco_por_faixa = df.groupby(faixas_20_dias, observed=False)['price'].mean()\n",
        "\n",
        "# Gráfico de linha\n",
        "plt.figure(figsize=(10, 6))\n",
        "sns.lineplot(x=media_preco_por_faixa.index, y=media_preco_por_faixa.values, marker='o', color='purple', linewidth=2)\n",
        "plt.title('Média de Preço por Faixa de Disponibilidade 365 (a cada 20 dias)')\n",
        "plt.xlabel('Faixa de Disponibilidade 365 (20 dias)')\n",
        "plt.ylabel('Preço Médio')\n",
        "plt.xticks(rotation=45)\n",
        "plt.grid(True, linestyle='--', alpha=0.7)\n",
        "plt.show()\n"
      ]
    },
    {
      "cell_type": "code",
      "execution_count": null,
      "id": "fed26cc4",
      "metadata": {
        "id": "fed26cc4"
      },
      "outputs": [],
      "source": [
        "\n",
        "# Criando gráfico de dispersão entre 'minimo_noites' e 'disponibilidade_365'\n",
        "plt.figure(figsize=(8, 6))\n",
        "sns.scatterplot(data=df, x='disponibilidade_365', y='minimo_noites', color='green')\n",
        "plt.title('Dispersão entre Mínimo de Noites e Disponibilidade 365')\n",
        "plt.ylabel('Mínimo de Noites')\n",
        "plt.xlabel('Disponibilidade ')\n",
        "plt.grid(True)\n",
        "plt.show()\n"
      ]
    },
    {
      "cell_type": "code",
      "execution_count": null,
      "id": "8dceb249",
      "metadata": {
        "id": "8dceb249"
      },
      "outputs": [],
      "source": [
        "\n",
        "# Limitando o mínimo de noites a 500 para enteder onde se consentrar a maior parte dos dados\n",
        "df = df[df['minimo_noites'] <= 500]\n",
        "\n",
        "# Agrupando os dados em faixas de 20 noites\n",
        "df['faixa_minimo_noites'] = (df['minimo_noites'] // 20) * 20  # faixas com intervalo de 5 noites\n",
        "\n",
        "# Calculando a média do preço para cada faixa de mínimo de noites\n",
        "media_preco_por_faixa_noites = df.groupby('faixa_minimo_noites')['price'].mean()\n",
        "\n",
        "# Gráfico de linha\n",
        "plt.figure(figsize=(10, 6))\n",
        "plt.plot(media_preco_por_faixa_noites.index, media_preco_por_faixa_noites, marker='o', color='b', linestyle='-', markersize=5)\n",
        "plt.title('Relação entre Preço e Mínimo de Noites (Intervalo de 20 Noites)')\n",
        "plt.xlabel('Mínimo de Noites')\n",
        "plt.ylabel('Preço Médio')\n",
        "plt.grid(True, linestyle='--', alpha=0.7)\n",
        "plt.xticks(media_preco_por_faixa_noites.index)\n",
        "plt.show()\n"
      ]
    },
    {
      "cell_type": "markdown",
      "source": [
        "### O nome interfere?"
      ],
      "metadata": {
        "id": "Eu4Lyr9jOMH4"
      },
      "id": "Eu4Lyr9jOMH4"
    },
    {
      "cell_type": "code",
      "execution_count": null,
      "id": "08865dcf",
      "metadata": {
        "id": "08865dcf"
      },
      "outputs": [],
      "source": [
        "\n",
        "# Palavras-chave\n",
        "palavras_chave = ['New', 'Penthouse', 'Vista', 'Private', 'house', 'Premium', 'city', 'District']\n",
        "\n",
        "# Calculando a média de preço para as propriedades que possuem essas palavras-chave\n",
        "preco_medio_por_palavra = {}\n",
        "for palavra in palavras_chave:\n",
        "    filtro = df['nome'].str.contains(palavra, case=False, na=False)\n",
        "    preco_medio_por_palavra[palavra] = df.loc[filtro, 'price'].mean()\n",
        "\n",
        "# Convertendo de DataFrame para visualização\n",
        "preco_medio_df = pd.DataFrame.from_dict(preco_medio_por_palavra, orient='index', columns=['Preço Médio'])\n",
        "\n",
        "# Gráfico de barras\n",
        "plt.figure(figsize=(10, 6))\n",
        "preco_medio_df['Preço Médio'].plot(kind='bar', color='pink', edgecolor='black')\n",
        "plt.title('Preço Médio por Palavra-chave no Nome')\n",
        "plt.xlabel('Palavra-chave')\n",
        "plt.ylabel('Preço Médio em Dolares')\n",
        "plt.xticks(rotation=45)\n",
        "plt.show()\n"
      ]
    },
    {
      "cell_type": "markdown",
      "source": [
        "Podemos observar que sim! há nomes que apresentão-se mais caros, mas como não temos a correlação das colunas possa ser que não interfira muito o resultado."
      ],
      "metadata": {
        "id": "A14xHoPZvrTX"
      },
      "id": "A14xHoPZvrTX"
    },
    {
      "cell_type": "markdown",
      "source": [
        "## Limpeza e Preparação  dos dados\n"
      ],
      "metadata": {
        "id": "gWDplCXqvQf-"
      },
      "id": "gWDplCXqvQf-"
    },
    {
      "cell_type": "markdown",
      "source": [
        "A realização da limpeza e preparação dos dados é um passo muito importante, se for mal feita o resultado dificilmente será bom."
      ],
      "metadata": {
        "id": "jnmQPaK3saZv"
      },
      "id": "jnmQPaK3saZv"
    },
    {
      "cell_type": "code",
      "execution_count": null,
      "id": "7a5afb10",
      "metadata": {
        "id": "7a5afb10"
      },
      "outputs": [],
      "source": [
        "\n",
        "# Há linhas duplicadas?\n",
        "df.duplicated().sum()"
      ]
    },
    {
      "cell_type": "code",
      "execution_count": null,
      "id": "f9f82026",
      "metadata": {
        "id": "f9f82026"
      },
      "outputs": [],
      "source": [
        "\n",
        "# verificando se há dados NULL no dataset\n",
        "df.isnull().sum()"
      ]
    },
    {
      "cell_type": "code",
      "execution_count": null,
      "id": "27e4068a",
      "metadata": {
        "id": "27e4068a"
      },
      "outputs": [],
      "source": [
        "\n",
        "# Para não perder muitos dados por conta de valores nulos, decide não deletar as linhas e sim preencher com a função .fillna()\n",
        "# Dados NULL podem prejudicar nossa analise\n",
        "df = df.fillna(0)"
      ]
    },
    {
      "cell_type": "code",
      "execution_count": null,
      "id": "f1277f69",
      "metadata": {
        "id": "f1277f69"
      },
      "outputs": [],
      "source": [
        "\n",
        "# Feature Engineering\n",
        "# Valor por Noite\n",
        "df['custo_por_noite'] = df['price'] / df['minimo_noites']\n",
        "df['custo_por_noite'] = df['custo_por_noite'].replace([float('inf'), -float('inf')], 0)\n",
        "\n",
        "# Popularidade do Bairro\n",
        "popularidade_bairro = df.groupby('bairro')['numero_de_reviews'].sum()\n",
        "df['popularidade_bairro'] = df['bairro'].map(popularidade_bairro)\n",
        "\n",
        "# Densidade de Anúncios por Bairro\n",
        "anuncios_por_bairro = df['bairro'].value_counts()\n",
        "df['densidade_bairro'] = df['bairro'].map(anuncios_por_bairro)"
      ]
    },
    {
      "cell_type": "code",
      "execution_count": null,
      "id": "eda5a27a",
      "metadata": {
        "id": "eda5a27a"
      },
      "outputs": [],
      "source": [
        "\n",
        "df.head()"
      ]
    },
    {
      "cell_type": "code",
      "execution_count": null,
      "id": "7e850792",
      "metadata": {
        "id": "7e850792"
      },
      "outputs": [],
      "source": [
        "\n",
        "# como o dataframe ficou?\n",
        "df.info()"
      ]
    },
    {
      "cell_type": "markdown",
      "source": [
        "### One hot"
      ],
      "metadata": {
        "id": "t0eJW6zOPP96"
      },
      "id": "t0eJW6zOPP96"
    },
    {
      "cell_type": "code",
      "execution_count": null,
      "id": "c603c79c",
      "metadata": {
        "id": "c603c79c"
      },
      "outputs": [],
      "source": [
        "\n",
        "# Transformando dados categóricos em dados numéricos\n",
        "\n",
        "# Colunas categóricas para aplicar One-Hot Encoding\n",
        "colunas_categoricas = ['bairro_group', 'room_type']\n",
        "\n",
        "# Aplicando One-Hot Encoding e apos concatenar com o DataFrame original\n",
        "df_one_hot = pd.get_dummies(df, columns=colunas_categoricas, drop_first=True)\n",
        "\n",
        "# Exibindo o DataFrame\n",
        "df_one_hot.head()"
      ]
    },
    {
      "cell_type": "code",
      "source": [
        "\n",
        "df = df_one_hot.select_dtypes(include=['float64', 'int64', 'bool'])\n",
        "\n",
        "df.info()"
      ],
      "metadata": {
        "id": "Ib6UyVQf60N5"
      },
      "id": "Ib6UyVQf60N5",
      "execution_count": null,
      "outputs": []
    },
    {
      "cell_type": "markdown",
      "source": [
        "## Construção do Modelo"
      ],
      "metadata": {
        "id": "S9nho8nPuecE"
      },
      "id": "S9nho8nPuecE"
    },
    {
      "cell_type": "markdown",
      "source": [
        "**Eu escolhi o modelo de Regressão Linear porque ele é simples, eficiente e adequado para problemas de previsão contínua, como o preço dos imóveis. Além disso, ele permite interpretar a relação entre as variáveis explicativas e o alvo, ajudando a entender quais fatores influenciam mais o preço**"
      ],
      "metadata": {
        "id": "v2PPCicLs4Mm"
      },
      "id": "v2PPCicLs4Mm"
    },
    {
      "cell_type": "markdown",
      "source": [
        "### Bibliotecas"
      ],
      "metadata": {
        "id": "ub87QTsnSD_t"
      },
      "id": "ub87QTsnSD_t"
    },
    {
      "cell_type": "code",
      "source": [
        "\n",
        "# bibliotecas necessárias para o Modelo\n",
        "from sklearn.model_selection import train_test_split\n",
        "from sklearn.linear_model import LinearRegression\n",
        "from sklearn.metrics import mean_squared_error, r2_score\n",
        "from sklearn.preprocessing import StandardScaler\n",
        "import pickle #pkl"
      ],
      "metadata": {
        "id": "eQMNpYo8RgS_"
      },
      "id": "eQMNpYo8RgS_",
      "execution_count": null,
      "outputs": []
    },
    {
      "cell_type": "markdown",
      "source": [
        "### Finalizando os dados"
      ],
      "metadata": {
        "id": "xm7D2G5hSagt"
      },
      "id": "xm7D2G5hSagt"
    },
    {
      "cell_type": "code",
      "source": [
        "\n",
        "# Variáveis preditoras (X) e a variável alvo (y)\n",
        "x = df.drop(columns=['price', 'custo_por_noite'])   # Removendo colunas alvo\n",
        "y = df['price']  # A variável alvo é o preço\n",
        "\n",
        "# Dividindo os dados em treino e teste (80% treino, 20% teste)\n",
        "X_train, X_test, y_train, y_test = train_test_split(x, y, test_size=0.2, random_state=42)\n",
        "\n",
        "# Normalizando os dados (opcional, caso necessário)\n",
        "scaler = StandardScaler()\n",
        "X_train_scaled = scaler.fit_transform(X_train)\n",
        "X_test_scaled = scaler.transform(X_test)"
      ],
      "metadata": {
        "id": "kiqE8NjISQKm"
      },
      "id": "kiqE8NjISQKm",
      "execution_count": null,
      "outputs": []
    },
    {
      "cell_type": "markdown",
      "source": [
        "### Modelo e Pkl"
      ],
      "metadata": {
        "id": "RKnAchpUSj17"
      },
      "id": "RKnAchpUSj17"
    },
    {
      "cell_type": "code",
      "source": [
        "\n",
        "# Criando o modelo de Regressão Linear\n",
        "modelo = LinearRegression()\n",
        "\n",
        "# Treinando o modelo\n",
        "modelo.fit(X_train_scaled, y_train)\n",
        "\n",
        "with open('modelo.pkl', 'wb') as arquivo:\n",
        "    pickle.dump(modelo, arquivo)"
      ],
      "metadata": {
        "id": "6DxTK3etSUob"
      },
      "id": "6DxTK3etSUob",
      "execution_count": null,
      "outputs": []
    },
    {
      "cell_type": "markdown",
      "source": [
        "### Avaliação"
      ],
      "metadata": {
        "id": "AmAA2jNkSvQz"
      },
      "id": "AmAA2jNkSvQz"
    },
    {
      "cell_type": "code",
      "execution_count": null,
      "id": "055b7cc0",
      "metadata": {
        "id": "055b7cc0"
      },
      "outputs": [],
      "source": [
        "\n",
        "# Fazendo as previsões\n",
        "y_pred = modelo.predict(X_test_scaled)\n",
        "\n",
        "# Avaliando o modelo\n",
        "mse = mean_squared_error(y_test, y_pred)  # Erro quadrático médio\n",
        "r2 = r2_score(y_test, y_pred)  # R² (coeficiente de determinação)\n",
        "\n",
        "# Exibindo os resultados\n",
        "print(f'MSE (Erro Quadrático Médio): {mse}')\n",
        "print(f'R² (Coeficiente de Determinação): {r2}')\n"
      ]
    },
    {
      "cell_type": "markdown",
      "source": [
        " O MSE foi de 35.708 e o R² ficou em 0,13, indicando que o modelo não conseguiu explicar bem a variabilidade do preço. Reconheço que ainda estou aprendendo e que, com o tempo e prática, serei capaz de criar modelos mais robustos e precisos."
      ],
      "metadata": {
        "id": "7oqGFY3Px53a"
      },
      "id": "7oqGFY3Px53a"
    },
    {
      "cell_type": "code",
      "source": [
        "\n",
        "\n",
        "# Criando intervalos de 100 nos índices\n",
        "intervalos = range(0, len(y_test), 100)\n",
        "\n",
        "# Convertendo os dados para listas, para garantir compatibilidade com os índices\n",
        "y_test_list = y_test.values.tolist()\n",
        "y_pred_list = y_pred.tolist()\n",
        "\n",
        "# Filtrando os valores reais e previstos nos intervalos\n",
        "y_test_interval = [y_test_list[i] for i in intervalos]\n",
        "y_pred_interval = [y_pred_list[i] for i in intervalos]\n",
        "\n",
        "# Gráfico\n",
        "plt.figure(figsize=(12, 6))\n",
        "plt.plot(intervalos, y_test_interval, label='Preço Real', color='blue', marker='o')\n",
        "plt.plot(intervalos, y_pred_interval, label='Preço Previsto', color='red', linestyle='--', marker='x')\n",
        "plt.title('Comparação entre Preços Reais e Preços Previstos')\n",
        "plt.xlabel('Índices (Intervalos de 100)')\n",
        "plt.ylabel('Preço (USD)')\n",
        "plt.legend()\n",
        "plt.grid(True)\n",
        "plt.show()\n"
      ],
      "metadata": {
        "id": "woMQKtSYDLeF"
      },
      "id": "woMQKtSYDLeF",
      "execution_count": null,
      "outputs": []
    },
    {
      "cell_type": "code",
      "source": [
        "\n",
        "# Entendendo como o preço de comporta\n",
        "# Selecionando valores de df['price'] com intervalos de 100\n",
        "price_sample = df2['price'][::100]  # Pegando a cada 100 linhas\n",
        "\n",
        "# Criando o gráfico de linha\n",
        "plt.figure(figsize=(12, 6))\n",
        "\n",
        "# Plotando os preços\n",
        "plt.plot(price_sample.index, price_sample.values, label='Preço', color='blue', linestyle='-', marker='o', alpha=0.7)\n",
        "\n",
        "# Adicionando título e legendas\n",
        "plt.title('Preços (com intevalos a cada 100 Linhas)', fontsize=14)\n",
        "plt.xlabel('Índice', fontsize=12)\n",
        "plt.ylabel('Preço', fontsize=12)\n",
        "plt.grid(True, alpha=0.5)\n",
        "plt.legend(fontsize=12)\n",
        "plt.show()\n"
      ],
      "metadata": {
        "id": "GieLZQymBZ9N"
      },
      "id": "GieLZQymBZ9N",
      "execution_count": null,
      "outputs": []
    },
    {
      "cell_type": "markdown",
      "source": [
        "### Testando no Exemplo"
      ],
      "metadata": {
        "id": "mJAKMf1hTFY0"
      },
      "id": "mJAKMf1hTFY0"
    },
    {
      "cell_type": "code",
      "source": [
        "\n",
        "# Exemplo fornecido\n",
        "exemplo = {\n",
        "    'id': 2595,\n",
        "    'nome': 'Skylit Midtown Castle',\n",
        "    'host_id': 2845,\n",
        "    'host_name': 'Jennifer',\n",
        "    'bairro_group': 'Manhattan',\n",
        "    'bairro': 'Midtown',\n",
        "    'latitude': 40.75362,\n",
        "    'longitude': -73.98377,\n",
        "    'room_type': 'Entire home/apt',\n",
        "    'minimo_noites': 1,\n",
        "    'numero_de_reviews': 45,\n",
        "    'ultima_review': '2019-05-21',\n",
        "    'reviews_por_mes': 0.38,\n",
        "    'calculado_host_listings_count': 2,\n",
        "    'disponibilidade_365': 355\n",
        "}\n",
        "\n",
        "# Carregando o modelo treinado\n",
        "with open('modelo.pkl', 'rb') as modelo_file:\n",
        "    modelo = pickle.load(modelo_file)\n",
        "\n",
        "# Transformar o exemplo em DataFrame\n",
        "exemplo_df = pd.DataFrame([exemplo])\n",
        "\n",
        "# Os exemplos devem ser transformadas como no treino\n",
        "exemplo_df_encoded = pd.get_dummies(exemplo_df, columns=['bairro_group', 'room_type'], drop_first=True)\n",
        "\n",
        "# Garantindo que as colunas estejam no mesmo formato (mesmas colunas que o treino)\n",
        "exemplo_df_encoded = exemplo_df_encoded.reindex(columns=x.columns, fill_value=0)\n",
        "\n",
        "# Normalizarção\n",
        "scaler = StandardScaler()\n",
        "exemplo_df_scaled = scaler.fit_transform(exemplo_df_encoded)\n",
        "\n",
        "# Realizar a previsão com o modelo treinado\n",
        "previsao_preco = modelo.predict(exemplo_df_scaled)\n",
        "\n",
        "print(f'Preço previsto: {previsao_preco[0]:.2f}')\n"
      ],
      "metadata": {
        "id": "4KqfZC1m5CdE"
      },
      "id": "4KqfZC1m5CdE",
      "execution_count": null,
      "outputs": []
    },
    {
      "cell_type": "markdown",
      "source": [
        "### Agradecimento\n"
      ],
      "metadata": {
        "id": "-EpZQWIdanm8"
      },
      "id": "-EpZQWIdanm8"
    },
    {
      "cell_type": "markdown",
      "source": [
        "**Quero agradecer pela oportunidade de participar deste processo seletivo. A experiência de responder às questões e desafios propostos foi valioso e desafiador, contribuiu para o meu aprendizado. Este processo me permitiu expandir meus conhecimentos e habilidades, ao mesmo tempo em que me motiva a continuar me aprimorando. Obrigado novamente pela experiência e pelo tempo que será dedicado à avaliação do meu trabalho. :)**\n"
      ],
      "metadata": {
        "id": "nk6sCLwslgpI"
      },
      "id": "nk6sCLwslgpI"
    }
  ],
  "metadata": {
    "kernelspec": {
      "display_name": "Python 3 (ipykernel)",
      "language": "python",
      "name": "python3"
    },
    "language_info": {
      "codemirror_mode": {
        "name": "ipython",
        "version": 3
      },
      "file_extension": ".py",
      "mimetype": "text/x-python",
      "name": "python",
      "nbconvert_exporter": "python",
      "pygments_lexer": "ipython3",
      "version": "3.9.13"
    },
    "colab": {
      "provenance": [],
      "toc_visible": true
    }
  },
  "nbformat": 4,
  "nbformat_minor": 5
}